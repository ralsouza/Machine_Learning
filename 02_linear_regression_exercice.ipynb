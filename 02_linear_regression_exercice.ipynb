{
  "nbformat": 4,
  "nbformat_minor": 0,
  "metadata": {
    "kernelspec": {
      "display_name": "Python 3",
      "language": "python",
      "name": "python3"
    },
    "language_info": {
      "codemirror_mode": {
        "name": "ipython",
        "version": 3
      },
      "file_extension": ".py",
      "mimetype": "text/x-python",
      "name": "python",
      "nbconvert_exporter": "python",
      "pygments_lexer": "ipython3",
      "version": "3.7.3"
    },
    "colab": {
      "name": "02_linear_regression_exercice.ipynb",
      "provenance": [],
      "collapsed_sections": [],
      "include_colab_link": true
    }
  },
  "cells": [
    {
      "cell_type": "markdown",
      "metadata": {
        "id": "view-in-github",
        "colab_type": "text"
      },
      "source": [
        "<a href=\"https://colab.research.google.com/github/ralsouza/machine_learning/blob/main/02_linear_regression_exercice.ipynb\" target=\"_parent\"><img src=\"https://colab.research.google.com/assets/colab-badge.svg\" alt=\"Open In Colab\"/></a>"
      ]
    },
    {
      "cell_type": "markdown",
      "metadata": {
        "id": "mOhHSOYH7Q2Y"
      },
      "source": [
        "# <font color='blue'>Capítulo 4 - Regressão</font>"
      ]
    },
    {
      "cell_type": "markdown",
      "metadata": {
        "id": "_jbW066x7Q2u"
      },
      "source": [
        "#### Exercício: \n",
        "\n",
        "Parte 1: Desenvolva o código necessário para a fórmula básica da regressão linear simples, calculando os coeficientes. \n",
        "\n",
        "Parte 2: Use o modelo para fazer previsões."
      ]
    },
    {
      "cell_type": "markdown",
      "metadata": {
        "id": "0_1sjTYO7Q2v"
      },
      "source": [
        "O dataset abaixo contém dados sobre medidas da cabeça de seres humanos e o peso do cérebro. Seu trabalho é criar um modelo de regressão linear simples que receba uma medida como entrada e faça a previsão do peso do cérebro!"
      ]
    },
    {
      "cell_type": "code",
      "metadata": {
        "id": "s18rSzED7Q2w"
      },
      "source": [
        "# Imports\n",
        "import numpy as np\n",
        "import pandas as pd"
      ],
      "execution_count": null,
      "outputs": []
    },
    {
      "cell_type": "code",
      "metadata": {
        "id": "SzlBkOvh7Q2x",
        "outputId": "2f933df0-94e0-42b2-8d98-e9243cd8b575"
      },
      "source": [
        "# Carregando os dados\n",
        "data = pd.read_csv('dados/pesos2.csv')\n",
        "data.head()"
      ],
      "execution_count": null,
      "outputs": [
        {
          "output_type": "execute_result",
          "data": {
            "text/html": [
              "<div>\n",
              "<style scoped>\n",
              "    .dataframe tbody tr th:only-of-type {\n",
              "        vertical-align: middle;\n",
              "    }\n",
              "\n",
              "    .dataframe tbody tr th {\n",
              "        vertical-align: top;\n",
              "    }\n",
              "\n",
              "    .dataframe thead th {\n",
              "        text-align: right;\n",
              "    }\n",
              "</style>\n",
              "<table border=\"1\" class=\"dataframe\">\n",
              "  <thead>\n",
              "    <tr style=\"text-align: right;\">\n",
              "      <th></th>\n",
              "      <th>Sexo</th>\n",
              "      <th>Grupo</th>\n",
              "      <th>Head Size</th>\n",
              "      <th>Brain Weight</th>\n",
              "    </tr>\n",
              "  </thead>\n",
              "  <tbody>\n",
              "    <tr>\n",
              "      <th>0</th>\n",
              "      <td>1</td>\n",
              "      <td>1</td>\n",
              "      <td>4512</td>\n",
              "      <td>1530</td>\n",
              "    </tr>\n",
              "    <tr>\n",
              "      <th>1</th>\n",
              "      <td>1</td>\n",
              "      <td>1</td>\n",
              "      <td>3738</td>\n",
              "      <td>1297</td>\n",
              "    </tr>\n",
              "    <tr>\n",
              "      <th>2</th>\n",
              "      <td>1</td>\n",
              "      <td>1</td>\n",
              "      <td>4261</td>\n",
              "      <td>1335</td>\n",
              "    </tr>\n",
              "    <tr>\n",
              "      <th>3</th>\n",
              "      <td>1</td>\n",
              "      <td>1</td>\n",
              "      <td>3777</td>\n",
              "      <td>1282</td>\n",
              "    </tr>\n",
              "    <tr>\n",
              "      <th>4</th>\n",
              "      <td>1</td>\n",
              "      <td>1</td>\n",
              "      <td>4177</td>\n",
              "      <td>1590</td>\n",
              "    </tr>\n",
              "  </tbody>\n",
              "</table>\n",
              "</div>"
            ],
            "text/plain": [
              "   Sexo  Grupo  Head Size  Brain Weight\n",
              "0     1      1       4512          1530\n",
              "1     1      1       3738          1297\n",
              "2     1      1       4261          1335\n",
              "3     1      1       3777          1282\n",
              "4     1      1       4177          1590"
            ]
          },
          "metadata": {
            "tags": []
          },
          "execution_count": 2
        }
      ]
    },
    {
      "cell_type": "code",
      "metadata": {
        "id": "1X0jPu-q7Q2z"
      },
      "source": [
        "# Definindo variáveis x e y\n",
        "X = data['Head Size'].values\n",
        "Y = data['Brain Weight'].values"
      ],
      "execution_count": null,
      "outputs": []
    },
    {
      "cell_type": "code",
      "metadata": {
        "id": "53FEngAD7Q20"
      },
      "source": [
        "# Parte 1\n",
        "\n",
        "# Seu código vai aqui"
      ],
      "execution_count": null,
      "outputs": []
    },
    {
      "cell_type": "code",
      "metadata": {
        "id": "Iha7rVnA7Q21"
      },
      "source": [
        "# # Parte 2\n",
        "\n",
        "# Seu código vai aqui"
      ],
      "execution_count": null,
      "outputs": []
    }
  ]
}