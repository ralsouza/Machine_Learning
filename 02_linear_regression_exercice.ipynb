{
  "nbformat": 4,
  "nbformat_minor": 0,
  "metadata": {
    "kernelspec": {
      "display_name": "Python 3",
      "language": "python",
      "name": "python3"
    },
    "language_info": {
      "codemirror_mode": {
        "name": "ipython",
        "version": 3
      },
      "file_extension": ".py",
      "mimetype": "text/x-python",
      "name": "python",
      "nbconvert_exporter": "python",
      "pygments_lexer": "ipython3",
      "version": "3.7.3"
    },
    "colab": {
      "name": "02_linear_regression_exercice.ipynb",
      "provenance": [],
      "collapsed_sections": [],
      "include_colab_link": true
    }
  },
  "cells": [
    {
      "cell_type": "markdown",
      "metadata": {
        "id": "view-in-github",
        "colab_type": "text"
      },
      "source": [
        "<a href=\"https://colab.research.google.com/github/ralsouza/machine_learning/blob/main/02_linear_regression_exercice.ipynb\" target=\"_parent\"><img src=\"https://colab.research.google.com/assets/colab-badge.svg\" alt=\"Open In Colab\"/></a>"
      ]
    },
    {
      "cell_type": "markdown",
      "metadata": {
        "id": "mOhHSOYH7Q2Y"
      },
      "source": [
        "# <font color='blue'>Capítulo 4 - Regressão</font>"
      ]
    },
    {
      "cell_type": "markdown",
      "metadata": {
        "id": "_jbW066x7Q2u"
      },
      "source": [
        "#### Exercício: \n",
        "\n",
        "Parte 1: Desenvolva o código necessário para a fórmula básica da regressão linear simples, calculando os coeficientes. \n",
        "\n",
        "Parte 2: Use o modelo para fazer previsões."
      ]
    },
    {
      "cell_type": "markdown",
      "metadata": {
        "id": "0_1sjTYO7Q2v"
      },
      "source": [
        "O dataset abaixo contém dados sobre medidas da cabeça de seres humanos e o peso do cérebro. Seu trabalho é criar um modelo de regressão linear simples que receba uma medida como entrada e faça a previsão do peso do cérebro!"
      ]
    },
    {
      "cell_type": "code",
      "metadata": {
        "id": "vn9W-XXbWGGo"
      },
      "source": [
        ""
      ],
      "execution_count": null,
      "outputs": []
    },
    {
      "cell_type": "code",
      "metadata": {
        "id": "s18rSzED7Q2w"
      },
      "source": [
        "# Imports\n",
        "import numpy as np\n",
        "import pandas as pd\n",
        "import matplotlib.pyplot as plt"
      ],
      "execution_count": 21,
      "outputs": []
    },
    {
      "cell_type": "code",
      "metadata": {
        "id": "SzlBkOvh7Q2x",
        "colab": {
          "base_uri": "https://localhost:8080/",
          "height": 204
        },
        "outputId": "97729896-851b-42ed-9874-f7b1c2f11492"
      },
      "source": [
        "# Carregando os dados\n",
        "data = pd.read_csv('/content/drive/MyDrive/Colab Notebooks/09_machine_learning/data/pesos2.csv')\n",
        "data.head()"
      ],
      "execution_count": 52,
      "outputs": [
        {
          "output_type": "execute_result",
          "data": {
            "text/html": [
              "<div>\n",
              "<style scoped>\n",
              "    .dataframe tbody tr th:only-of-type {\n",
              "        vertical-align: middle;\n",
              "    }\n",
              "\n",
              "    .dataframe tbody tr th {\n",
              "        vertical-align: top;\n",
              "    }\n",
              "\n",
              "    .dataframe thead th {\n",
              "        text-align: right;\n",
              "    }\n",
              "</style>\n",
              "<table border=\"1\" class=\"dataframe\">\n",
              "  <thead>\n",
              "    <tr style=\"text-align: right;\">\n",
              "      <th></th>\n",
              "      <th>Sexo</th>\n",
              "      <th>Grupo</th>\n",
              "      <th>Head Size</th>\n",
              "      <th>Brain Weight</th>\n",
              "    </tr>\n",
              "  </thead>\n",
              "  <tbody>\n",
              "    <tr>\n",
              "      <th>0</th>\n",
              "      <td>1</td>\n",
              "      <td>1</td>\n",
              "      <td>4512</td>\n",
              "      <td>1530</td>\n",
              "    </tr>\n",
              "    <tr>\n",
              "      <th>1</th>\n",
              "      <td>1</td>\n",
              "      <td>1</td>\n",
              "      <td>3738</td>\n",
              "      <td>1297</td>\n",
              "    </tr>\n",
              "    <tr>\n",
              "      <th>2</th>\n",
              "      <td>1</td>\n",
              "      <td>1</td>\n",
              "      <td>4261</td>\n",
              "      <td>1335</td>\n",
              "    </tr>\n",
              "    <tr>\n",
              "      <th>3</th>\n",
              "      <td>1</td>\n",
              "      <td>1</td>\n",
              "      <td>3777</td>\n",
              "      <td>1282</td>\n",
              "    </tr>\n",
              "    <tr>\n",
              "      <th>4</th>\n",
              "      <td>1</td>\n",
              "      <td>1</td>\n",
              "      <td>4177</td>\n",
              "      <td>1590</td>\n",
              "    </tr>\n",
              "  </tbody>\n",
              "</table>\n",
              "</div>"
            ],
            "text/plain": [
              "   Sexo  Grupo  Head Size  Brain Weight\n",
              "0     1      1       4512          1530\n",
              "1     1      1       3738          1297\n",
              "2     1      1       4261          1335\n",
              "3     1      1       3777          1282\n",
              "4     1      1       4177          1590"
            ]
          },
          "metadata": {
            "tags": []
          },
          "execution_count": 52
        }
      ]
    },
    {
      "cell_type": "code",
      "metadata": {
        "id": "1X0jPu-q7Q2z",
        "colab": {
          "base_uri": "https://localhost:8080/",
          "height": 279
        },
        "outputId": "a468286c-aabc-473a-9c46-3c6591f68b8b"
      },
      "source": [
        "# Definindo variáveis x e y\n",
        "X = data['Head Size'].values\n",
        "Y = data['Brain Weight'].values\n",
        "\n",
        "plt.scatter(X,Y)\n",
        "plt.xlabel(\"Values of X\")\n",
        "plt.ylabel(\"Values of Y\")\n",
        "plt.show()"
      ],
      "execution_count": 25,
      "outputs": [
        {
          "output_type": "display_data",
          "data": {
            "image/png": "[encoded data removed]",
            "text/plain": [
              "<Figure size 432x288 with 1 Axes>"
            ]
          },
          "metadata": {
            "tags": [],
            "needs_background": "light"
          }
        }
      ]
    },
    {
      "cell_type": "code",
      "metadata": {
        "id": "-xZwMo9eDxUG"
      },
      "source": [
        "def sqr_and_sum(array_values):\n",
        "  squared_number = [pow(num,2) for num in array_values]\n",
        "  return sum(squared_number)"
      ],
      "execution_count": 46,
      "outputs": []
    },
    {
      "cell_type": "code",
      "metadata": {
        "id": "jx1H7GnrIKwF"
      },
      "source": [
        "def prod_xy(x,y):\n",
        "  prod = x*y\n",
        "  return sum(prod)"
      ],
      "execution_count": 71,
      "outputs": []
    },
    {
      "cell_type": "code",
      "metadata": {
        "id": "53FEngAD7Q20"
      },
      "source": [
        "sum_x  = sum(X)\n",
        "sum_y  = sum(Y)\n",
        "pow_x_sqrd = sqr_and_sum(X)\n",
        "xy = prod_xy(X,Y)\n",
        "n = data.size"
      ],
      "execution_count": 72,
      "outputs": []
    },
    {
      "cell_type": "code",
      "metadata": {
        "colab": {
          "base_uri": "https://localhost:8080/"
        },
        "id": "bEgrS6nDkx5S",
        "outputId": "60dadaf7-6717-4a63-997f-c5a38f133d94"
      },
      "source": [
        "print(\"sum_x: {} \".format(sum_x))\n",
        "print(\"sum_y: {}\".format(sum_y))\n",
        "print(\"pow_x_sqrd: {}\".format(pow_x_sqrd))\n",
        "print(\"xy: {}\".format(xy))\n",
        "print(\"n size: {}\".format(n))"
      ],
      "execution_count": 73,
      "outputs": [
        {
          "output_type": "stream",
          "text": [
            "sum_x: 861256 \n",
            "sum_y: 304041\n",
            "pow_x_sqrd: 3161283190\n",
            "xy: 1113176805\n",
            "n size: 948\n"
          ],
          "name": "stdout"
        }
      ]
    },
    {
      "cell_type": "code",
      "metadata": {
        "id": "VudXXX56Jxq-"
      },
      "source": [
        ""
      ],
      "execution_count": null,
      "outputs": []
    },
    {
      "cell_type": "code",
      "metadata": {
        "id": "S7UCZjT9Jx1s"
      },
      "source": [
        ""
      ],
      "execution_count": 76,
      "outputs": []
    },
    {
      "cell_type": "code",
      "metadata": {
        "id": "Kcw8poHTJx6i"
      },
      "source": [
        ""
      ],
      "execution_count": null,
      "outputs": []
    },
    {
      "cell_type": "code",
      "metadata": {
        "id": "_HJN65uOJx_8"
      },
      "source": [
        ""
      ],
      "execution_count": null,
      "outputs": []
    },
    {
      "cell_type": "code",
      "metadata": {
        "id": "lyznLSGYJyDQ"
      },
      "source": [
        ""
      ],
      "execution_count": null,
      "outputs": []
    },
    {
      "cell_type": "code",
      "metadata": {
        "id": "Iha7rVnA7Q21"
      },
      "source": [
        "# # Parte 2\n",
        "\n",
        "# Seu código vai aqui"
      ],
      "execution_count": null,
      "outputs": []
    }
  ]
}