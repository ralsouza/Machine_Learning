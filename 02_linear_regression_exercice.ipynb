{
  "nbformat": 4,
  "nbformat_minor": 0,
  "metadata": {
    "kernelspec": {
      "display_name": "Python 3",
      "language": "python",
      "name": "python3"
    },
    "language_info": {
      "codemirror_mode": {
        "name": "ipython",
        "version": 3
      },
      "file_extension": ".py",
      "mimetype": "text/x-python",
      "name": "python",
      "nbconvert_exporter": "python",
      "pygments_lexer": "ipython3",
      "version": "3.7.3"
    },
    "colab": {
      "name": "02_linear_regression_exercice.ipynb",
      "provenance": [],
      "collapsed_sections": [],
      "include_colab_link": true
    }
  },
  "cells": [
    {
      "cell_type": "markdown",
      "metadata": {
        "id": "view-in-github",
        "colab_type": "text"
      },
      "source": [
        "<a href=\"https://colab.research.google.com/github/ralsouza/machine_learning/blob/main/02_linear_regression_exercice.ipynb\" target=\"_parent\"><img src=\"https://colab.research.google.com/assets/colab-badge.svg\" alt=\"Open In Colab\"/></a>"
      ]
    },
    {
      "cell_type": "markdown",
      "metadata": {
        "id": "mOhHSOYH7Q2Y"
      },
      "source": [
        "# <font color='blue'>Regressão Linear Simples</font>"
      ]
    },
    {
      "cell_type": "markdown",
      "metadata": {
        "id": "_jbW066x7Q2u"
      },
      "source": [
        "#### Exercício: \n",
        "\n",
        "Parte 1: Desenvolva o código necessário para a fórmula básica da regressão linear simples, calculando os coeficientes. \n",
        "\n",
        "Parte 2: Use o modelo para fazer previsões."
      ]
    },
    {
      "cell_type": "markdown",
      "metadata": {
        "id": "0_1sjTYO7Q2v"
      },
      "source": [
        "O dataset abaixo contém dados sobre medidas da cabeça de seres humanos e o peso do cérebro. Seu trabalho é criar um modelo de regressão linear simples que receba uma medida como entrada e faça a previsão do peso do cérebro!"
      ]
    },
    {
      "cell_type": "code",
      "metadata": {
        "id": "s18rSzED7Q2w"
      },
      "source": [
        "# Imports\n",
        "import numpy as np\n",
        "import pandas as pd\n",
        "import matplotlib.pyplot as plt"
      ],
      "execution_count": 2,
      "outputs": []
    },
    {
      "cell_type": "code",
      "metadata": {
        "id": "SzlBkOvh7Q2x",
        "colab": {
          "base_uri": "https://localhost:8080/",
          "height": 221
        },
        "outputId": "cbbd7b80-ae06-4a4e-c275-31a03bff8cff"
      },
      "source": [
        "# Carregando os dados\n",
        "data = pd.read_csv('/content/drive/MyDrive/Colab Notebooks/09_machine_learning/data/pesos2.csv')\n",
        "data.head()"
      ],
      "execution_count": 5,
      "outputs": [
        {
          "output_type": "execute_result",
          "data": {
            "text/html": [
              "<div>\n",
              "<style scoped>\n",
              "    .dataframe tbody tr th:only-of-type {\n",
              "        vertical-align: middle;\n",
              "    }\n",
              "\n",
              "    .dataframe tbody tr th {\n",
              "        vertical-align: top;\n",
              "    }\n",
              "\n",
              "    .dataframe thead th {\n",
              "        text-align: right;\n",
              "    }\n",
              "</style>\n",
              "<table border=\"1\" class=\"dataframe\">\n",
              "  <thead>\n",
              "    <tr style=\"text-align: right;\">\n",
              "      <th></th>\n",
              "      <th>Sexo</th>\n",
              "      <th>Grupo</th>\n",
              "      <th>Head Size</th>\n",
              "      <th>Brain Weight</th>\n",
              "    </tr>\n",
              "  </thead>\n",
              "  <tbody>\n",
              "    <tr>\n",
              "      <th>0</th>\n",
              "      <td>1</td>\n",
              "      <td>1</td>\n",
              "      <td>4512</td>\n",
              "      <td>1530</td>\n",
              "    </tr>\n",
              "    <tr>\n",
              "      <th>1</th>\n",
              "      <td>1</td>\n",
              "      <td>1</td>\n",
              "      <td>3738</td>\n",
              "      <td>1297</td>\n",
              "    </tr>\n",
              "    <tr>\n",
              "      <th>2</th>\n",
              "      <td>1</td>\n",
              "      <td>1</td>\n",
              "      <td>4261</td>\n",
              "      <td>1335</td>\n",
              "    </tr>\n",
              "    <tr>\n",
              "      <th>3</th>\n",
              "      <td>1</td>\n",
              "      <td>1</td>\n",
              "      <td>3777</td>\n",
              "      <td>1282</td>\n",
              "    </tr>\n",
              "    <tr>\n",
              "      <th>4</th>\n",
              "      <td>1</td>\n",
              "      <td>1</td>\n",
              "      <td>4177</td>\n",
              "      <td>1590</td>\n",
              "    </tr>\n",
              "  </tbody>\n",
              "</table>\n",
              "</div>"
            ],
            "text/plain": [
              "   Sexo  Grupo  Head Size  Brain Weight\n",
              "0     1      1       4512          1530\n",
              "1     1      1       3738          1297\n",
              "2     1      1       4261          1335\n",
              "3     1      1       3777          1282\n",
              "4     1      1       4177          1590"
            ]
          },
          "metadata": {
            "tags": []
          },
          "execution_count": 5
        }
      ]
    },
    {
      "cell_type": "code",
      "metadata": {
        "id": "1X0jPu-q7Q2z",
        "colab": {
          "base_uri": "https://localhost:8080/",
          "height": 300
        },
        "outputId": "20c0539e-f4e9-4c7b-b119-8172a8a4ded1"
      },
      "source": [
        "# Definindo variáveis x e y\n",
        "X = data['Head Size'].values\n",
        "Y = data['Brain Weight'].values\n",
        "\n",
        "plt.scatter(X,Y)\n",
        "plt.xlabel(\"Values of X\")\n",
        "plt.ylabel(\"Values of Y\")\n",
        "plt.show()"
      ],
      "execution_count": 6,
      "outputs": [
        {
          "output_type": "display_data",
          "data": {
            "image/png": "[encoded data removed]",
            "text/plain": [
              "<Figure size 432x288 with 1 Axes>"
            ]
          },
          "metadata": {
            "tags": [],
            "needs_background": "light"
          }
        }
      ]
    },
    {
      "cell_type": "code",
      "metadata": {
        "colab": {
          "base_uri": "https://localhost:8080/"
        },
        "id": "_m4yOOrE4VX6",
        "outputId": "52bf5cf1-96ca-409e-d769-ff823c3ce2e6"
      },
      "source": [
        "# Computing the coefficients\n",
        "\n",
        "# Mean of Y and X\n",
        "mean_y = np.mean(Y)\n",
        "mean_x = np.mean(X)\n",
        "\n",
        "# Values quantity\n",
        "n = len(X)\n",
        "\n",
        "# Computing a and b\n",
        "num = 0\n",
        "den = 0\n",
        "\n",
        "for i in range(n):\n",
        "  num += (X[i] - mean_x) * (Y[i] - mean_y)\n",
        "  den += (X[i] - mean_x) ** 2\n",
        "\n",
        "b = num / den\n",
        "a = mean_y - (b * mean_x)\n",
        "\n",
        "print(f\"a = {a}\")\n",
        "print(f\"b = {b}\")"
      ],
      "execution_count": 27,
      "outputs": [
        {
          "output_type": "stream",
          "text": [
            "a = 325.57342104944223\n",
            "b = 0.26342933948939945\n"
          ],
          "name": "stdout"
        }
      ]
    },
    {
      "cell_type": "code",
      "metadata": {
        "id": "TIvvDE4S4Vkx"
      },
      "source": [
        "def model(x, b, a):\n",
        "  \"\"\"\n",
        "    y = a +b*x \n",
        "  \"\"\"\n",
        "  output = b * x + a\n",
        "  return output"
      ],
      "execution_count": 28,
      "outputs": []
    },
    {
      "cell_type": "code",
      "metadata": {
        "colab": {
          "base_uri": "https://localhost:8080/",
          "height": 286
        },
        "id": "S-dmECZu4VvP",
        "outputId": "a4c06f12-9c39-4ef8-ffc1-a5cbe22eb11b"
      },
      "source": [
        "plt.scatter(X,Y)\n",
        "plt.plot(X,y_pred, c=\"red\")\n",
        "plt.show()"
      ],
      "execution_count": 30,
      "outputs": [
        {
          "output_type": "display_data",
          "data": {
            "image/png": "[encoded data removed]",
            "text/plain": [
              "<Figure size 432x288 with 1 Axes>"
            ]
          },
          "metadata": {
            "tags": [],
            "needs_background": "light"
          }
        }
      ]
    },
    {
      "cell_type": "code",
      "metadata": {
        "colab": {
          "base_uri": "https://localhost:8080/"
        },
        "id": "BkRh2-ws-hwS",
        "outputId": "1653025c-a223-4b7f-f22d-9c5b91927d80"
      },
      "source": [
        "# Making predictions\n",
        "# y = a +b*x\n",
        "\n",
        "new_head_size = 4450\n",
        "\n",
        "predict = model(x = new_head_size, a = a, b = b)\n",
        "\n",
        "print(f\"The brain weigth is: {predict}\")"
      ],
      "execution_count": 32,
      "outputs": [
        {
          "output_type": "stream",
          "text": [
            "The brain weigth is: 1497.8339817772699\n"
          ],
          "name": "stdout"
        }
      ]
    },
    {
      "cell_type": "markdown",
      "metadata": {
        "id": "UoTwDlp8AW1M"
      },
      "source": [
        "R-Squared = 1-(SSR/SST)"
      ]
    },
    {
      "cell_type": "code",
      "metadata": {
        "colab": {
          "base_uri": "https://localhost:8080/"
        },
        "id": "Y8edoP4RAFy8",
        "outputId": "e91c3aec-1e88-48d2-eceb-7446a8516cd8"
      },
      "source": [
        "num_r = 0\n",
        "den_r = 0\n",
        "\n",
        "for i in range(n):\n",
        "  num_r += (Y[i] - y_pred[i]) ** 2\n",
        "  den_r += (Y[i] - mean_y) ** 2\n",
        "\n",
        "r_sq = 1 - (num_r / den_r)\n",
        "\n",
        "print(f\"The R-Squared is: {r_sq}\")"
      ],
      "execution_count": 34,
      "outputs": [
        {
          "output_type": "stream",
          "text": [
            "The R-Squared is: 0.6393117199570003\n"
          ],
          "name": "stdout"
        }
      ]
    }
  ]
}