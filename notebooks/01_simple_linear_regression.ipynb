{
  "nbformat": 4,
  "nbformat_minor": 0,
  "metadata": {
    "colab": {
      "name": "01_simple_linear_regression.ipynb",
      "provenance": [],
      "authorship_tag": "ABX9TyMUZ4XKnzRS6mcrbxc5FDq7",
      "include_colab_link": true
    },
    "kernelspec": {
      "name": "python3",
      "display_name": "Python 3"
    },
    "language_info": {
      "name": "python"
    }
  },
  "cells": [
    {
      "cell_type": "markdown",
      "metadata": {
        "id": "view-in-github",
        "colab_type": "text"
      },
      "source": [
        "<a href=\"https://colab.research.google.com/github/ralsouza/machine_learning/blob/main/notebooks/01_simple_linear_regression.ipynb\" target=\"_parent\"><img src=\"https://colab.research.google.com/assets/colab-badge.svg\" alt=\"Open In Colab\"/></a>"
      ]
    },
    {
      "cell_type": "markdown",
      "metadata": {
        "id": "x2B70Bemo_mi"
      },
      "source": [
        "# Defining the Business Problem\n",
        "Our objective is to build a machine learning model to be able to predict the mean occupation rate of houses in Boston. To each house we have several explanatory variables. Therefore, we can solve this problem using `Linear Regresion Simple` or `Multiple`.\n",
        "\n",
        "## Defining the Dataset\n",
        "We'll use the `Boston Housing Dataset`, that is a dataset has the `mean occupation rate` of houses, with other 13 variables that can be related to houses price. These are the factors such as socioeconimics conditions, environment conditions, educational installations and other similar factors. There are 506 observations and 14 variables in the data. There are 12 numeric variables in our dataset and one categorical variable. The goal of this project is to build a linear regression model to estimate the `mean occupation rate` of the houses's owners in Boston.\n",
        "\n",
        "Source: https://archive.ics.uci.edu/ml/machine-learning-databases/housing/\n",
        "\n",
        "1. CRIM: per capita crime rate by town \n",
        "2. ZN: proportion of residential land zoned for lots over 25,000 sq.ft. \n",
        "3. INDUS: proportion of non-retail business acres per town \n",
        "4. CHAS: Charles River dummy variable (= 1 if tract bounds river; 0 otherwise) \n",
        "5. NOX: nitric oxides concentration (parts per 10 million) \n",
        "6. RM: average number of rooms per dwelling \n",
        "7. AGE: proportion of owner-occupied units built prior to 1940 \n",
        "8. DIS: weighted distances to five Boston employment centres \n",
        "9. RAD: index of accessibility to radial highways \n",
        "10. TAX: full-value property-tax rate per 10,000 \n",
        "11. PTRATIO: pupil-teacher ratio by town \n",
        "12. B: 1000(Bk - 0.63)^2 where Bk is the proportion of blacks by town \n",
        "13. LSTAT: % lower status of the population \n",
        "14. TARGET: Median value of owner-occupied homes in $1000's\n"
      ]
    },
    {
      "cell_type": "code",
      "metadata": {
        "id": "biSzKdGZoz8u"
      },
      "source": [
        ""
      ],
      "execution_count": null,
      "outputs": []
    }
  ]
}