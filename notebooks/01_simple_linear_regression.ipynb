{
  "nbformat": 4,
  "nbformat_minor": 0,
  "metadata": {
    "colab": {
      "name": "01_simple_linear_regression.ipynb",
      "provenance": [],
      "collapsed_sections": [],
      "mount_file_id": "1-7xnIyRn47D6SrYvL66T8yZyiERBN9pI",
      "authorship_tag": "ABX9TyPvcwXHgpBhcEICZqUt2eVF",
      "include_colab_link": true
    },
    "kernelspec": {
      "name": "python3",
      "display_name": "Python 3"
    },
    "language_info": {
      "name": "python"
    }
  },
  "cells": [
    {
      "cell_type": "markdown",
      "metadata": {
        "id": "view-in-github",
        "colab_type": "text"
      },
      "source": [
        "<a href=\"https://colab.research.google.com/github/ralsouza/machine_learning/blob/main/notebooks/01_simple_linear_regression.ipynb\" target=\"_parent\"><img src=\"https://colab.research.google.com/assets/colab-badge.svg\" alt=\"Open In Colab\"/></a>"
      ]
    },
    {
      "cell_type": "markdown",
      "metadata": {
        "id": "x2B70Bemo_mi"
      },
      "source": [
        "# Defining the Business Problem\n",
        "Our objective is to build a machine learning model to be able to predict the mean occupation rate of houses in Boston. To each house we have several explanatory variables. Therefore, we can solve this problem using `Linear Regresion Simple` or `Multiple`.\n",
        "\n",
        "## Defining the Dataset\n",
        "We'll use the `Boston Housing Dataset`, that is a dataset has the `mean occupation rate` of houses, with other 13 variables that can be related to houses price. These are the factors such as socioeconimics conditions, environment conditions, educational installations and other similar factors. There are 506 observations and 14 variables in the data. There are 12 numeric variables in our dataset and one categorical variable. The goal of this project is to build a linear regression model to estimate the `mean occupation rate` of the houses's owners in Boston.\n",
        "\n",
        "Source: https://archive.ics.uci.edu/ml/machine-learning-databases/housing/\n",
        "\n",
        "### Dataset Details\n",
        "1. CRIM: per capita crime rate by town \n",
        "2. ZN: proportion of residential land zoned for lots over 25,000 sq.ft. \n",
        "3. INDUS: proportion of non-retail business acres per town \n",
        "4. CHAS: Charles River dummy variable (= 1 if tract bounds river; 0 otherwise) \n",
        "5. NOX: nitric oxides concentration (parts per 10 million) \n",
        "6. RM: average number of rooms per dwelling \n",
        "7. AGE: proportion of owner-occupied units built prior to 1940 \n",
        "8. DIS: weighted distances to five Boston employment centres \n",
        "9. RAD: index of accessibility to radial highways \n",
        "10. TAX: full-value property-tax rate per 10,000 \n",
        "11. PTRATIO: pupil-teacher ratio by town \n",
        "12. B: 1000(Bk - 0.63)^2 where Bk is the proportion of blacks by town \n",
        "13. LSTAT: % lower status of the population \n",
        "14. TARGET: Median value of owner-occupied homes in $1000's\n"
      ]
    },
    {
      "cell_type": "code",
      "metadata": {
        "id": "e9KNxAkqxwPw"
      },
      "source": [
        "# Loading the Boston Houses dataset\n",
        "from sklearn.datasets import load_boston\n",
        "boston = load_boston()\n",
        "\n",
        "# Importing libraries\n",
        "import numpy  as np\n",
        "import pandas as pd\n",
        "import matplotlib.pyplot as plt\n",
        "import matplotlib as mpl\n",
        "import seaborn as sns\n",
        "import warnings\n",
        "\n",
        "warnings.filterwarnings(\"ignore\")\n",
        "%matplotlib inline"
      ],
      "execution_count": 1,
      "outputs": []
    },
    {
      "cell_type": "markdown",
      "metadata": {
        "id": "C1hdYvwLxnfM"
      },
      "source": [
        "# 1. Exploratory Data Analysis"
      ]
    },
    {
      "cell_type": "code",
      "metadata": {
        "id": "biSzKdGZoz8u"
      },
      "source": [
        "dataset = pd.DataFrame(boston.data, columns=boston.feature_names)\n",
        "dataset[\"target\"] = boston.target"
      ],
      "execution_count": 2,
      "outputs": []
    },
    {
      "cell_type": "code",
      "metadata": {
        "colab": {
          "base_uri": "https://localhost:8080/",
          "height": 221
        },
        "id": "Txbk0ROczMpf",
        "outputId": "cf57a368-a6d2-4f19-fd8d-cc873e3cbdb0"
      },
      "source": [
        "dataset.head(5)"
      ],
      "execution_count": 3,
      "outputs": [
        {
          "output_type": "execute_result",
          "data": {
            "text/html": [
              "<div>\n",
              "<style scoped>\n",
              "    .dataframe tbody tr th:only-of-type {\n",
              "        vertical-align: middle;\n",
              "    }\n",
              "\n",
              "    .dataframe tbody tr th {\n",
              "        vertical-align: top;\n",
              "    }\n",
              "\n",
              "    .dataframe thead th {\n",
              "        text-align: right;\n",
              "    }\n",
              "</style>\n",
              "<table border=\"1\" class=\"dataframe\">\n",
              "  <thead>\n",
              "    <tr style=\"text-align: right;\">\n",
              "      <th></th>\n",
              "      <th>CRIM</th>\n",
              "      <th>ZN</th>\n",
              "      <th>INDUS</th>\n",
              "      <th>CHAS</th>\n",
              "      <th>NOX</th>\n",
              "      <th>RM</th>\n",
              "      <th>AGE</th>\n",
              "      <th>DIS</th>\n",
              "      <th>RAD</th>\n",
              "      <th>TAX</th>\n",
              "      <th>PTRATIO</th>\n",
              "      <th>B</th>\n",
              "      <th>LSTAT</th>\n",
              "      <th>target</th>\n",
              "    </tr>\n",
              "  </thead>\n",
              "  <tbody>\n",
              "    <tr>\n",
              "      <th>0</th>\n",
              "      <td>0.00632</td>\n",
              "      <td>18.0</td>\n",
              "      <td>2.31</td>\n",
              "      <td>0.0</td>\n",
              "      <td>0.538</td>\n",
              "      <td>6.575</td>\n",
              "      <td>65.2</td>\n",
              "      <td>4.0900</td>\n",
              "      <td>1.0</td>\n",
              "      <td>296.0</td>\n",
              "      <td>15.3</td>\n",
              "      <td>396.90</td>\n",
              "      <td>4.98</td>\n",
              "      <td>24.0</td>\n",
              "    </tr>\n",
              "    <tr>\n",
              "      <th>1</th>\n",
              "      <td>0.02731</td>\n",
              "      <td>0.0</td>\n",
              "      <td>7.07</td>\n",
              "      <td>0.0</td>\n",
              "      <td>0.469</td>\n",
              "      <td>6.421</td>\n",
              "      <td>78.9</td>\n",
              "      <td>4.9671</td>\n",
              "      <td>2.0</td>\n",
              "      <td>242.0</td>\n",
              "      <td>17.8</td>\n",
              "      <td>396.90</td>\n",
              "      <td>9.14</td>\n",
              "      <td>21.6</td>\n",
              "    </tr>\n",
              "    <tr>\n",
              "      <th>2</th>\n",
              "      <td>0.02729</td>\n",
              "      <td>0.0</td>\n",
              "      <td>7.07</td>\n",
              "      <td>0.0</td>\n",
              "      <td>0.469</td>\n",
              "      <td>7.185</td>\n",
              "      <td>61.1</td>\n",
              "      <td>4.9671</td>\n",
              "      <td>2.0</td>\n",
              "      <td>242.0</td>\n",
              "      <td>17.8</td>\n",
              "      <td>392.83</td>\n",
              "      <td>4.03</td>\n",
              "      <td>34.7</td>\n",
              "    </tr>\n",
              "    <tr>\n",
              "      <th>3</th>\n",
              "      <td>0.03237</td>\n",
              "      <td>0.0</td>\n",
              "      <td>2.18</td>\n",
              "      <td>0.0</td>\n",
              "      <td>0.458</td>\n",
              "      <td>6.998</td>\n",
              "      <td>45.8</td>\n",
              "      <td>6.0622</td>\n",
              "      <td>3.0</td>\n",
              "      <td>222.0</td>\n",
              "      <td>18.7</td>\n",
              "      <td>394.63</td>\n",
              "      <td>2.94</td>\n",
              "      <td>33.4</td>\n",
              "    </tr>\n",
              "    <tr>\n",
              "      <th>4</th>\n",
              "      <td>0.06905</td>\n",
              "      <td>0.0</td>\n",
              "      <td>2.18</td>\n",
              "      <td>0.0</td>\n",
              "      <td>0.458</td>\n",
              "      <td>7.147</td>\n",
              "      <td>54.2</td>\n",
              "      <td>6.0622</td>\n",
              "      <td>3.0</td>\n",
              "      <td>222.0</td>\n",
              "      <td>18.7</td>\n",
              "      <td>396.90</td>\n",
              "      <td>5.33</td>\n",
              "      <td>36.2</td>\n",
              "    </tr>\n",
              "  </tbody>\n",
              "</table>\n",
              "</div>"
            ],
            "text/plain": [
              "      CRIM    ZN  INDUS  CHAS    NOX  ...    TAX  PTRATIO       B  LSTAT  target\n",
              "0  0.00632  18.0   2.31   0.0  0.538  ...  296.0     15.3  396.90   4.98    24.0\n",
              "1  0.02731   0.0   7.07   0.0  0.469  ...  242.0     17.8  396.90   9.14    21.6\n",
              "2  0.02729   0.0   7.07   0.0  0.469  ...  242.0     17.8  392.83   4.03    34.7\n",
              "3  0.03237   0.0   2.18   0.0  0.458  ...  222.0     18.7  394.63   2.94    33.4\n",
              "4  0.06905   0.0   2.18   0.0  0.458  ...  222.0     18.7  396.90   5.33    36.2\n",
              "\n",
              "[5 rows x 14 columns]"
            ]
          },
          "metadata": {
            "tags": []
          },
          "execution_count": 3
        }
      ]
    },
    {
      "cell_type": "code",
      "metadata": {
        "colab": {
          "base_uri": "https://localhost:8080/"
        },
        "id": "cB7PFPjjzO-6",
        "outputId": "95268904-9d89-43f6-f65b-2b0880b184f1"
      },
      "source": [
        "# Computing mean of target variable\n",
        "mean_target_variable = dataset[\"target\"].mean()\n",
        "mean_target_variable"
      ],
      "execution_count": 4,
      "outputs": [
        {
          "output_type": "execute_result",
          "data": {
            "text/plain": [
              "22.532806324110698"
            ]
          },
          "metadata": {
            "tags": []
          },
          "execution_count": 4
        }
      ]
    },
    {
      "cell_type": "markdown",
      "metadata": {
        "id": "ynaY2WCb8aLf"
      },
      "source": [
        "According of `Central Limit Theorm (CLT)`, when the size of the sample increases, the sampling distribuition gets closer of a normal distribuition. In other words, when most of values are close to the mean. "
      ]
    },
    {
      "cell_type": "code",
      "metadata": {
        "id": "FcFX8Zjn6wsU",
        "colab": {
          "base_uri": "https://localhost:8080/",
          "height": 287
        },
        "outputId": "1bde59e2-0ca6-447e-852a-39f36747fcd3"
      },
      "source": [
        "dataset[\"target\"].hist(bins=10)\n",
        "plt.show()"
      ],
      "execution_count": 5,
      "outputs": [
        {
          "output_type": "display_data",
          "data": {
            "image/png": "[encoded data removed]",
            "text/plain": [
              "<Figure size 432x288 with 1 Axes>"
            ]
          },
          "metadata": {
            "tags": [],
            "needs_background": "light"
          }
        }
      ]
    },
    {
      "cell_type": "code",
      "metadata": {
        "colab": {
          "base_uri": "https://localhost:8080/",
          "height": 286
        },
        "id": "dRV6_rnMLBHJ",
        "outputId": "d872dbdd-75d2-4ac6-90f8-a9e4d302d588"
      },
      "source": [
        "dataset[\"target\"].plot(kind=\"box\")\n",
        "plt.show()"
      ],
      "execution_count": 6,
      "outputs": [
        {
          "output_type": "display_data",
          "data": {
            "image/png": "[encoded data removed]",
            "text/plain": [
              "<Figure size 432x288 with 1 Axes>"
            ]
          },
          "metadata": {
            "tags": [],
            "needs_background": "light"
          }
        }
      ]
    },
    {
      "cell_type": "code",
      "metadata": {
        "colab": {
          "base_uri": "https://localhost:8080/",
          "height": 286
        },
        "id": "zgmuMPR7X7jZ",
        "outputId": "cb59fa2e-c307-4ff2-81d8-b91c834294f7"
      },
      "source": [
        "dataset[\"RM\"].hist(bins=20)\n",
        "plt.show()"
      ],
      "execution_count": 7,
      "outputs": [
        {
          "output_type": "display_data",
          "data": {
            "image/png": "[encoded data removed]",
            "text/plain": [
              "<Figure size 432x288 with 1 Axes>"
            ]
          },
          "metadata": {
            "tags": [],
            "needs_background": "light"
          }
        }
      ]
    },
    {
      "cell_type": "code",
      "metadata": {
        "colab": {
          "base_uri": "https://localhost:8080/",
          "height": 288
        },
        "id": "FD9dG7BeYNT8",
        "outputId": "7e918517-b057-4873-af3e-c5657b6b506a"
      },
      "source": [
        "dataset[\"RM\"].plot(kind=\"box\")\n",
        "plt.show()"
      ],
      "execution_count": 63,
      "outputs": [
        {
          "output_type": "display_data",
          "data": {
            "image/png": "[encoded data removed]",
            "text/plain": [
              "<Figure size 432x288 with 1 Axes>"
            ]
          },
          "metadata": {
            "tags": [],
            "needs_background": "light"
          }
        }
      ]
    },
    {
      "cell_type": "markdown",
      "metadata": {
        "id": "c3ybzrE_Qw-7"
      },
      "source": [
        "For the simple linear regression, we will use as explanatory variable the `RM`variable that represents the average number of rooms per dwelling."
      ]
    },
    {
      "cell_type": "code",
      "metadata": {
        "colab": {
          "base_uri": "https://localhost:8080/"
        },
        "id": "VE6MHK_GONnD",
        "outputId": "43f95253-87b5-4f6e-bbab-cbd5e425f103"
      },
      "source": [
        "# Computing the Standard Deviation of RM\n",
        "rm_std = np.std(dataset[\"RM\"])\n",
        "\n",
        "print(f\"Standard Deviation of RM: {rm_std:.5f}\")"
      ],
      "execution_count": 8,
      "outputs": [
        {
          "output_type": "stream",
          "text": [
            "Standard Deviation of RM: 0.70192\n"
          ],
          "name": "stdout"
        }
      ]
    },
    {
      "cell_type": "code",
      "metadata": {
        "colab": {
          "base_uri": "https://localhost:8080/"
        },
        "id": "qk6tGrxmWD2i",
        "outputId": "1cb2d83c-325e-49c0-8611-33ff7226cc4d"
      },
      "source": [
        "# Pearson function from scipy, that represents the correlation between variables\n",
        "from scipy.stats.stats import pearsonr\n",
        "\n",
        "rm_personr = pearsonr(dataset[\"RM\"], dataset[\"target\"])[0]\n",
        "\n",
        "print(f\"The Pearson's correlation between RM and Target: {rm_personr:.5f}\") "
      ],
      "execution_count": 10,
      "outputs": [
        {
          "output_type": "stream",
          "text": [
            "The Pearson's correlation between RM and Target: 0.69536\n"
          ],
          "name": "stdout"
        }
      ]
    },
    {
      "cell_type": "code",
      "metadata": {
        "id": "jFPyhrKhZXEH"
      },
      "source": [
        "# Computing the range of x and y values\n",
        "x_range = [dataset[\"RM\"].min(), dataset[\"RM\"].max()]\n",
        "y_range = [dataset[\"target\"].min(), dataset[\"target\"].max()]"
      ],
      "execution_count": 11,
      "outputs": []
    },
    {
      "cell_type": "code",
      "metadata": {
        "colab": {
          "base_uri": "https://localhost:8080/",
          "height": 303
        },
        "id": "E_LGFUwkYcU5",
        "outputId": "8bdf3326-7774-47fb-ff95-ad3fa5489613"
      },
      "source": [
        "# Plot of x and y values with the avarege\n",
        "scatter_plot = dataset.plot(kind = \"scatter\", x = \"RM\", y = \"target\", xlim = x_range, ylim = y_range)\n",
        "\n",
        "# Compute the average\n",
        "mean_y = scatter_plot.plot(x_range, [dataset[\"target\"].mean(),dataset[\"target\"].mean()], \"--\", color = \"red\", linewidth = 1)\n",
        "mean_X = scatter_plot.plot([dataset[\"RM\"].mean(), dataset[\"RM\"].mean()], y_range, \"--\", color = \"red\", linewidth = 1)"
      ],
      "execution_count": 12,
      "outputs": [
        {
          "output_type": "display_data",
          "data": {
            "image/png": "[encoded data removed]",
            "text/plain": [
              "<Figure size 432x288 with 1 Axes>"
            ]
          },
          "metadata": {
            "tags": [],
            "needs_background": "light"
          }
        }
      ]
    },
    {
      "cell_type": "markdown",
      "metadata": {
        "id": "_WMXeBu5QKP5"
      },
      "source": [
        "# Linear Regression with StatsModels\n",
        "[www.statsmodels.org](https://www.statsmodels.org/stable/index.html)\n",
        "\n",
        "[Why Uppercase for X and Lowercase for y is Used in Python Model](https://www.freetechtrainer.com/why-uppercase-for-x-and-lowercase-for-y-is-used-in-python-model/)"
      ]
    },
    {
      "cell_type": "code",
      "metadata": {
        "id": "6nYVfIuCjNv1"
      },
      "source": [
        "# Importing the function.\n",
        "import statsmodels.api as sm"
      ],
      "execution_count": 4,
      "outputs": []
    },
    {
      "cell_type": "code",
      "metadata": {
        "id": "UZzJe0SyXSqe"
      },
      "source": [
        "# Defining the X and y. Let's add a constant to X value.\n",
        "y = dataset[\"target\"]\n",
        "x = dataset[\"RM\"]"
      ],
      "execution_count": 5,
      "outputs": []
    },
    {
      "cell_type": "code",
      "metadata": {
        "colab": {
          "base_uri": "https://localhost:8080/",
          "height": 221
        },
        "id": "f2p1KVf3YkLS",
        "outputId": "c4839dbc-82f9-49fa-e1b4-58346c659cbe"
      },
      "source": [
        "# This command adds a constant values in X variable, generating a matrix,  \n",
        "# the bias will be computed internally by the function.\n",
        "# This standard is demanded by StatsModels framework.\n",
        "X = sm.add_constant(x)\n",
        "X.head(5)"
      ],
      "execution_count": 6,
      "outputs": [
        {
          "output_type": "execute_result",
          "data": {
            "text/html": [
              "<div>\n",
              "<style scoped>\n",
              "    .dataframe tbody tr th:only-of-type {\n",
              "        vertical-align: middle;\n",
              "    }\n",
              "\n",
              "    .dataframe tbody tr th {\n",
              "        vertical-align: top;\n",
              "    }\n",
              "\n",
              "    .dataframe thead th {\n",
              "        text-align: right;\n",
              "    }\n",
              "</style>\n",
              "<table border=\"1\" class=\"dataframe\">\n",
              "  <thead>\n",
              "    <tr style=\"text-align: right;\">\n",
              "      <th></th>\n",
              "      <th>const</th>\n",
              "      <th>RM</th>\n",
              "    </tr>\n",
              "  </thead>\n",
              "  <tbody>\n",
              "    <tr>\n",
              "      <th>0</th>\n",
              "      <td>1.0</td>\n",
              "      <td>6.575</td>\n",
              "    </tr>\n",
              "    <tr>\n",
              "      <th>1</th>\n",
              "      <td>1.0</td>\n",
              "      <td>6.421</td>\n",
              "    </tr>\n",
              "    <tr>\n",
              "      <th>2</th>\n",
              "      <td>1.0</td>\n",
              "      <td>7.185</td>\n",
              "    </tr>\n",
              "    <tr>\n",
              "      <th>3</th>\n",
              "      <td>1.0</td>\n",
              "      <td>6.998</td>\n",
              "    </tr>\n",
              "    <tr>\n",
              "      <th>4</th>\n",
              "      <td>1.0</td>\n",
              "      <td>7.147</td>\n",
              "    </tr>\n",
              "  </tbody>\n",
              "</table>\n",
              "</div>"
            ],
            "text/plain": [
              "   const     RM\n",
              "0    1.0  6.575\n",
              "1    1.0  6.421\n",
              "2    1.0  7.185\n",
              "3    1.0  6.998\n",
              "4    1.0  7.147"
            ]
          },
          "metadata": {
            "tags": []
          },
          "execution_count": 6
        }
      ]
    },
    {
      "cell_type": "code",
      "metadata": {
        "id": "6Pq29oMRZ6gc"
      },
      "source": [
        "# Building the model with OLS (Ordinary List Squares)\n",
        "model = sm.OLS(y,X)\n",
        "\n",
        "# Training the model\n",
        "model_v1 = model.fit()"
      ],
      "execution_count": 7,
      "outputs": []
    },
    {
      "cell_type": "code",
      "metadata": {
        "colab": {
          "base_uri": "https://localhost:8080/"
        },
        "id": "942SCE4JaimQ",
        "outputId": "72d394e5-a983-4c35-a148-48def3b76cd6"
      },
      "source": [
        "print(model_v1.summary())"
      ],
      "execution_count": 19,
      "outputs": [
        {
          "output_type": "stream",
          "text": [
            "                            OLS Regression Results                            \n",
            "==============================================================================\n",
            "Dep. Variable:                 target   R-squared:                       0.484\n",
            "Model:                            OLS   Adj. R-squared:                  0.483\n",
            "Method:                 Least Squares   F-statistic:                     471.8\n",
            "Date:                Sat, 15 May 2021   Prob (F-statistic):           2.49e-74\n",
            "Time:                        23:44:17   Log-Likelihood:                -1673.1\n",
            "No. Observations:                 506   AIC:                             3350.\n",
            "Df Residuals:                     504   BIC:                             3359.\n",
            "Df Model:                           1                                         \n",
            "Covariance Type:            nonrobust                                         \n",
            "==============================================================================\n",
            "                 coef    std err          t      P>|t|      [0.025      0.975]\n",
            "------------------------------------------------------------------------------\n",
            "const        -34.6706      2.650    -13.084      0.000     -39.877     -29.465\n",
            "RM             9.1021      0.419     21.722      0.000       8.279       9.925\n",
            "==============================================================================\n",
            "Omnibus:                      102.585   Durbin-Watson:                   0.684\n",
            "Prob(Omnibus):                  0.000   Jarque-Bera (JB):              612.449\n",
            "Skew:                           0.726   Prob(JB):                    1.02e-133\n",
            "Kurtosis:                       8.190   Cond. No.                         58.4\n",
            "==============================================================================\n",
            "\n",
            "Warnings:\n",
            "[1] Standard Errors assume that the covariance matrix of the errors is correctly specified.\n"
          ],
          "name": "stdout"
        }
      ]
    },
    {
      "cell_type": "code",
      "metadata": {
        "colab": {
          "base_uri": "https://localhost:8080/"
        },
        "id": "O_erhegtapGx",
        "outputId": "e6ce8dbf-a7c7-481a-c6d7-e85592704fd7"
      },
      "source": [
        "# Printing the parameters\n",
        "print(model_v1.params)"
      ],
      "execution_count": 20,
      "outputs": [
        {
          "output_type": "stream",
          "text": [
            "const   -34.670621\n",
            "RM        9.102109\n",
            "dtype: float64\n"
          ],
          "name": "stdout"
        }
      ]
    },
    {
      "cell_type": "code",
      "metadata": {
        "colab": {
          "base_uri": "https://localhost:8080/"
        },
        "id": "D2X9wFYsa7tA",
        "outputId": "275e4526-d0a7-401e-ba4a-f5e7b0bf55f8"
      },
      "source": [
        "# Generating the predicted values\n",
        "predicted_values = model_v1.predict(X)\n",
        "predicted_values.head(10)"
      ],
      "execution_count": 8,
      "outputs": [
        {
          "output_type": "execute_result",
          "data": {
            "text/plain": [
              "0    25.175746\n",
              "1    23.774021\n",
              "2    30.728032\n",
              "3    29.025938\n",
              "4    30.382152\n",
              "5    23.855940\n",
              "6    20.051258\n",
              "7    21.507596\n",
              "8    16.583355\n",
              "9    19.978442\n",
              "dtype: float64"
            ]
          },
          "metadata": {
            "tags": []
          },
          "execution_count": 8
        }
      ]
    },
    {
      "cell_type": "code",
      "metadata": {
        "colab": {
          "base_uri": "https://localhost:8080/"
        },
        "id": "uI9IWOC8bQs8",
        "outputId": "f93f3f9d-4812-4868-f332-a4da9aa8da39"
      },
      "source": [
        "# Making the predictions with the trained model\n",
        "\n",
        "# Defining a RM to predict the value\n",
        "RM = 5\n",
        "\n",
        "# Defining the array with the StatsModels constant\n",
        "Xp = np.array([1,RM])\n",
        "\n",
        "# Predict the occupation value based on the new RM value\n",
        "new_rm_predict = model_v1.predict(Xp)\n",
        "\n",
        "print(f\"If RM value is {RM}, our model will predict the average occupation rate as {new_rm_predict[0]:.5f}\")"
      ],
      "execution_count": 14,
      "outputs": [
        {
          "output_type": "stream",
          "text": [
            "If RM value is 5, our model will predict the average occupation rate as 10.83992\n"
          ],
          "name": "stdout"
        }
      ]
    },
    {
      "cell_type": "markdown",
      "metadata": {
        "id": "IS7-JYvugucx"
      },
      "source": [
        "# Making a Scatter Plot with Regression Line"
      ]
    },
    {
      "cell_type": "code",
      "metadata": {
        "id": "bbrZ-uwsdK1m"
      },
      "source": [
        "# Computing the ranges of x and y\n",
        "x_range = [dataset['RM'].min(), dataset['RM'].max()]\n",
        "y_range = [dataset['target'].min(), dataset['target'].max()]"
      ],
      "execution_count": 15,
      "outputs": []
    },
    {
      "cell_type": "code",
      "metadata": {
        "colab": {
          "base_uri": "https://localhost:8080/",
          "height": 303
        },
        "id": "6AjmEXMhdLeG",
        "outputId": "e187a33e-ecae-45e6-b948-d39e6977b80b"
      },
      "source": [
        "# First layer of Scatter Plot\n",
        "scatter_plot = dataset.plot(kind = 'scatter', x = 'RM', y = 'target', xlim = x_range, ylim = y_range)\n",
        "\n",
        "# Second layer of Scatter Plot (averages)\n",
        "y_mean = scatter_plot.plot(x_range, [dataset['target'].mean(),dataset['target'].mean()], '--', color = 'red', linewidth = 1)\n",
        "x_mean = scatter_plot.plot([dataset['RM'].mean(),dataset['RM'].mean()], y_range, '--', color = 'red', linewidth = 1)\n",
        "\n",
        "# Thrid layer of Scatter Plot (regression line)\n",
        "regression_line = scatter_plot.plot(dataset['RM'], predicted_values, '-', color = 'orange', linewidth = 2)"
      ],
      "execution_count": 18,
      "outputs": [
        {
          "output_type": "display_data",
          "data": {
            "image/png": "[encoded data removed]",
            "text/plain": [
              "<Figure size 432x288 with 1 Axes>"
            ]
          },
          "metadata": {
            "tags": [],
            "needs_background": "light"
          }
        }
      ]
    },
    {
      "cell_type": "code",
      "metadata": {
        "id": "Ih3Efx9zjLyJ"
      },
      "source": [
        "# Computing the residuals\n",
        "residuals = dataset[\"target\"] - predicted_values\n",
        "\n",
        "def standardize(variable):\n",
        "    return (variable - np.mean(variable)) / np.std(variable)\n",
        "\n",
        "nomalized_residuals = standardize(residuals)\n"
      ],
      "execution_count": 21,
      "outputs": []
    },
    {
      "cell_type": "code",
      "metadata": {
        "colab": {
          "base_uri": "https://localhost:8080/",
          "height": 300
        },
        "id": "WruYgL_Skfb7",
        "outputId": "627d6265-fdf8-42ba-c2a9-4df94d00af13"
      },
      "source": [
        "# Residuals ScatterPlot\n",
        "residual_scatter_plot = plt.plot(dataset['RM'], nomalized_residuals,'bp')\n",
        "\n",
        "plt.xlabel('RM') \n",
        "plt.ylabel('Nomalized Residuals') \n",
        "\n",
        "mean_residual = plt.plot([int(x_range[0]),round(x_range[1],0)], [0,0]  , '-' , color = 'red', linewidth = 3)\n",
        "upper_bound   = plt.plot([int(x_range[0]),round(x_range[1],0)], [3,3]  , '--', color = 'red', linewidth = 2)\n",
        "lower_bound   = plt.plot([int(x_range[0]),round(x_range[1],0)], [-3,-3], '--', color = 'red', linewidth = 2)\n",
        "\n",
        "plt.grid()"
      ],
      "execution_count": 22,
      "outputs": [
        {
          "output_type": "display_data",
          "data": {
            "image/png": "[encoded data removed]",
            "text/plain": [
              "<Figure size 432x288 with 1 Axes>"
            ]
          },
          "metadata": {
            "tags": [],
            "needs_background": "light"
          }
        }
      ]
    },
    {
      "cell_type": "markdown",
      "metadata": {
        "id": "tj5EV3LZlkl7"
      },
      "source": [
        "## Linear Regression with Scikit-Learn\n",
        "[sklearn.linear_model.LinearRegression](https://scikit-learn.org/stable/modules/generated/sklearn.linear_model.LinearRegression.html)"
      ]
    },
    {
      "cell_type": "code",
      "metadata": {
        "id": "Kf9DrKuHlnE9"
      },
      "source": [
        "# Importing Linear Regression from Scikit-Learn\n",
        "from sklearn import linear_model"
      ],
      "execution_count": 23,
      "outputs": []
    },
    {
      "cell_type": "code",
      "metadata": {
        "id": "ggllAfSnobJk"
      },
      "source": [
        "# Make the model object\n",
        "model_v2 = linear_model.LinearRegression(normalize=False, fit_intercept=True)"
      ],
      "execution_count": 24,
      "outputs": []
    },
    {
      "cell_type": "code",
      "metadata": {
        "id": "a0taliEzoqWn"
      },
      "source": [
        "# Computing the values of X and y\n",
        "n = len(dataset)\n",
        "\n",
        "# Defining the X matrix\n",
        "# X always must be a matrix, never a vector\n",
        "X = dataset[\"RM\"].values.reshape((n, 1))\n",
        "\n",
        "# y can be a vector\n",
        "y = dataset[\"target\"].values"
      ],
      "execution_count": 27,
      "outputs": []
    },
    {
      "cell_type": "code",
      "metadata": {
        "colab": {
          "base_uri": "https://localhost:8080/"
        },
        "id": "-qDjqV4NpU-n",
        "outputId": "f82926fe-211f-49f2-8419-f760bf4a167e"
      },
      "source": [
        "type(X)"
      ],
      "execution_count": 28,
      "outputs": [
        {
          "output_type": "execute_result",
          "data": {
            "text/plain": [
              "numpy.ndarray"
            ]
          },
          "metadata": {
            "tags": []
          },
          "execution_count": 28
        }
      ]
    },
    {
      "cell_type": "code",
      "metadata": {
        "colab": {
          "base_uri": "https://localhost:8080/"
        },
        "id": "2yycgoaRpwsV",
        "outputId": "83be4f34-0998-45c2-a101-705963034120"
      },
      "source": [
        "# Check the matrix dimension\n",
        "np.ndim(X)"
      ],
      "execution_count": 29,
      "outputs": [
        {
          "output_type": "execute_result",
          "data": {
            "text/plain": [
              "2"
            ]
          },
          "metadata": {
            "tags": []
          },
          "execution_count": 29
        }
      ]
    },
    {
      "cell_type": "code",
      "metadata": {
        "colab": {
          "base_uri": "https://localhost:8080/"
        },
        "id": "0_aIzpyDp99K",
        "outputId": "a26e0ca3-c2bd-44f8-e0f7-5ecb05a90169"
      },
      "source": [
        "print(X[:20])"
      ],
      "execution_count": 33,
      "outputs": [
        {
          "output_type": "stream",
          "text": [
            "[[6.575]\n",
            " [6.421]\n",
            " [7.185]\n",
            " [6.998]\n",
            " [7.147]\n",
            " [6.43 ]\n",
            " [6.012]\n",
            " [6.172]\n",
            " [5.631]\n",
            " [6.004]\n",
            " [6.377]\n",
            " [6.009]\n",
            " [5.889]\n",
            " [5.949]\n",
            " [6.096]\n",
            " [5.834]\n",
            " [5.935]\n",
            " [5.99 ]\n",
            " [5.456]\n",
            " [5.727]]\n"
          ],
          "name": "stdout"
        }
      ]
    },
    {
      "cell_type": "code",
      "metadata": {
        "colab": {
          "base_uri": "https://localhost:8080/"
        },
        "id": "5eFn27X-q176",
        "outputId": "bab54e2f-6f2b-4d53-fac9-e1a0c2df36ad"
      },
      "source": [
        "np.ndim(y)"
      ],
      "execution_count": 34,
      "outputs": [
        {
          "output_type": "execute_result",
          "data": {
            "text/plain": [
              "1"
            ]
          },
          "metadata": {
            "tags": []
          },
          "execution_count": 34
        }
      ]
    },
    {
      "cell_type": "code",
      "metadata": {
        "colab": {
          "base_uri": "https://localhost:8080/"
        },
        "id": "Gp8huVMzq3bs",
        "outputId": "d7a366f7-c888-43c5-8b72-bf6fb623c0d0"
      },
      "source": [
        "print(y[:20])"
      ],
      "execution_count": 35,
      "outputs": [
        {
          "output_type": "stream",
          "text": [
            "[24.  21.6 34.7 33.4 36.2 28.7 22.9 27.1 16.5 18.9 15.  18.9 21.7 20.4\n",
            " 18.2 19.9 23.1 17.5 20.2 18.2]\n"
          ],
          "name": "stdout"
        }
      ]
    },
    {
      "cell_type": "code",
      "metadata": {
        "colab": {
          "base_uri": "https://localhost:8080/"
        },
        "id": "znYxY72Eq8NW",
        "outputId": "a3d48740-b184-445f-8067-4a2d6cc81568"
      },
      "source": [
        "# Training the model model - fit()\n",
        "model_v2.fit(X,y)"
      ],
      "execution_count": 36,
      "outputs": [
        {
          "output_type": "execute_result",
          "data": {
            "text/plain": [
              "LinearRegression(copy_X=True, fit_intercept=True, n_jobs=None, normalize=False)"
            ]
          },
          "metadata": {
            "tags": []
          },
          "execution_count": 36
        }
      ]
    },
    {
      "cell_type": "code",
      "metadata": {
        "colab": {
          "base_uri": "https://localhost:8080/"
        },
        "id": "q3O7tYW8rUBq",
        "outputId": "aefc473f-dc35-4325-91dc-2215a28c8501"
      },
      "source": [
        "# Printing the coefficients\n",
        "print(f\"Coefficient: {model_v2.coef_[0]}\")\n",
        "print(f\"Intercept: {model_v2.intercept_}\")"
      ],
      "execution_count": 41,
      "outputs": [
        {
          "output_type": "stream",
          "text": [
            "Coefficient: 9.10210898118031\n",
            "Intercept: -34.67062077643857\n"
          ],
          "name": "stdout"
        }
      ]
    },
    {
      "cell_type": "code",
      "metadata": {
        "colab": {
          "base_uri": "https://localhost:8080/"
        },
        "id": "kN-hVI2osYQZ",
        "outputId": "dfb903d6-4316-4a5d-a272-b6d495806b67"
      },
      "source": [
        "# Printing the first 30 predicted values\n",
        "model_v2_predicted_values = model_v2.predict(X)\n",
        "\n",
        "print(model_v2_predicted_values[:30])"
      ],
      "execution_count": 45,
      "outputs": [
        {
          "output_type": "stream",
          "text": [
            "[25.17574577 23.77402099 30.72803225 29.02593787 30.38215211 23.85593997\n",
            " 20.05125842 21.50759586 16.5833549  19.97844155 23.3735282  20.02395209\n",
            " 18.93169901 19.47782555 20.81583557 18.43108302 19.35039603 19.85101202\n",
            " 14.99048582 17.45715736 16.02812625 19.6234593  21.23453259 18.23993873\n",
            " 19.25027283 16.29208741 18.23993873 20.36983223 24.44757706 26.07685456]\n"
          ],
          "name": "stdout"
        }
      ]
    },
    {
      "cell_type": "code",
      "metadata": {
        "colab": {
          "base_uri": "https://localhost:8080/"
        },
        "id": "vMSrv9Ohs522",
        "outputId": "c89f8da8-eaf4-4c95-a458-109e626e8e70"
      },
      "source": [
        "# Making the predictions with the trained model v2\n",
        "\n",
        "# Defining a RM to predict the value\n",
        "RM = 5\n",
        "\n",
        "# Reshaping the array with the Sklearn constant\n",
        "Xp = np.array(RM).reshape(-1,1)\n",
        "\n",
        "# Predict the occupation value based on the new RM value\n",
        "new_rm_predict_v2 = model_v2.predict(Xp)\n",
        "\n",
        "print(f\"If RM value is {RM}, our model will predict the average occupation rate as {new_rm_predict_v2[0]:.5f}\")"
      ],
      "execution_count": 47,
      "outputs": [
        {
          "output_type": "stream",
          "text": [
            "If RM value is 5, our model will predict the average occupation rate as 10.83992\n"
          ],
          "name": "stdout"
        }
      ]
    }
  ]
}